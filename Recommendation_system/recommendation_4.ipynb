{
 "cells": [
  {
   "cell_type": "code",
   "execution_count": 2,
   "metadata": {},
   "outputs": [],
   "source": [
    "import pandas as pd\n",
    "import numpy as np\n",
    "import matplotlib.pyplot as plt\n",
    "import keras\n",
    "import tensorflow as tf\n",
    "from tensorflow.keras.layers import Input, Dense, Embedding, Flatten, Concatenate\n",
    "from tensorflow.keras.optimizers import Adam\n",
    "from tensorflow.keras.models import Model\n",
    "from sklearn.utils import shuffle\n",
    "import graphviz, pydot"
   ]
  },
  {
   "cell_type": "code",
   "execution_count": 3,
   "metadata": {},
   "outputs": [
    {
     "data": {
      "text/html": [
       "<div>\n",
       "<style scoped>\n",
       "    .dataframe tbody tr th:only-of-type {\n",
       "        vertical-align: middle;\n",
       "    }\n",
       "\n",
       "    .dataframe tbody tr th {\n",
       "        vertical-align: top;\n",
       "    }\n",
       "\n",
       "    .dataframe thead th {\n",
       "        text-align: right;\n",
       "    }\n",
       "</style>\n",
       "<table border=\"1\" class=\"dataframe\">\n",
       "  <thead>\n",
       "    <tr style=\"text-align: right;\">\n",
       "      <th></th>\n",
       "      <th>userId</th>\n",
       "      <th>movieId</th>\n",
       "      <th>rating</th>\n",
       "      <th>timestamp</th>\n",
       "    </tr>\n",
       "  </thead>\n",
       "  <tbody>\n",
       "    <tr>\n",
       "      <th>0</th>\n",
       "      <td>1</td>\n",
       "      <td>2</td>\n",
       "      <td>3.5</td>\n",
       "      <td>2005-04-02 23:53:47</td>\n",
       "    </tr>\n",
       "    <tr>\n",
       "      <th>1</th>\n",
       "      <td>1</td>\n",
       "      <td>29</td>\n",
       "      <td>3.5</td>\n",
       "      <td>2005-04-02 23:31:16</td>\n",
       "    </tr>\n",
       "    <tr>\n",
       "      <th>2</th>\n",
       "      <td>1</td>\n",
       "      <td>32</td>\n",
       "      <td>3.5</td>\n",
       "      <td>2005-04-02 23:33:39</td>\n",
       "    </tr>\n",
       "    <tr>\n",
       "      <th>3</th>\n",
       "      <td>1</td>\n",
       "      <td>47</td>\n",
       "      <td>3.5</td>\n",
       "      <td>2005-04-02 23:32:07</td>\n",
       "    </tr>\n",
       "    <tr>\n",
       "      <th>4</th>\n",
       "      <td>1</td>\n",
       "      <td>50</td>\n",
       "      <td>3.5</td>\n",
       "      <td>2005-04-02 23:29:40</td>\n",
       "    </tr>\n",
       "  </tbody>\n",
       "</table>\n",
       "</div>"
      ],
      "text/plain": [
       "   userId  movieId  rating            timestamp\n",
       "0       1        2     3.5  2005-04-02 23:53:47\n",
       "1       1       29     3.5  2005-04-02 23:31:16\n",
       "2       1       32     3.5  2005-04-02 23:33:39\n",
       "3       1       47     3.5  2005-04-02 23:32:07\n",
       "4       1       50     3.5  2005-04-02 23:29:40"
      ]
     },
     "execution_count": 3,
     "metadata": {},
     "output_type": "execute_result"
    }
   ],
   "source": [
    "df_rating = pd.read_csv('datasets/rating.csv')\n",
    "df_rating.head()"
   ]
  },
  {
   "cell_type": "code",
   "execution_count": 4,
   "metadata": {},
   "outputs": [],
   "source": [
    "df_rating.userId = pd.Categorical(df_rating.userId)\n",
    "df_rating['new_user_id'] = df_rating.userId.cat.codes"
   ]
  },
  {
   "cell_type": "code",
   "execution_count": 5,
   "metadata": {},
   "outputs": [],
   "source": [
    "df_rating.movieId = pd.Categorical(df_rating.movieId)\n",
    "df_rating['new_movie_id'] = df_rating.movieId.cat.codes"
   ]
  },
  {
   "cell_type": "code",
   "execution_count": 6,
   "metadata": {},
   "outputs": [],
   "source": [
    "# Get user ID's, movie ID's and rating as separate arrays\n",
    "user_ids = df_rating.new_movie_id.values\n",
    "movie_ids = df_rating.new_movie_id.values\n",
    "ratings = df_rating.rating.values"
   ]
  },
  {
   "cell_type": "code",
   "execution_count": 7,
   "metadata": {},
   "outputs": [],
   "source": [
    "# Get number of users and number of movies\n",
    "N = len(set(user_ids))\n",
    "M = len(set(movie_ids))\n",
    "\n",
    "# Set embedding dimension\n",
    "K = 10"
   ]
  },
  {
   "cell_type": "code",
   "execution_count": 8,
   "metadata": {},
   "outputs": [],
   "source": [
    "# Make a Neural Network\n",
    "\n",
    "# User input\n",
    "u = Input(shape=(1,))\n",
    "# Movie Input\n",
    "m = Input(shape=(1,))\n",
    "\n",
    "# User embedding\n",
    "# Output is (num_samples, 1, k)\n",
    "u_emb = Embedding(N, K)(u) \n",
    "# Movie embedding\n",
    "m_emb = Embedding(M, K)(m)\n",
    "\n",
    "# Flattern both embeddings\n",
    "# Output is (num_samples, k)\n",
    "u_emb = Flatten()(u_emb)\n",
    "m_emb = Flatten()(m_emb)\n",
    "\n",
    "# Concatenate user-movie embedding into a feature vector\n",
    "# Output is (num_samples, 2k)\n",
    "x= Concatenate()([u_emb, m_emb])\n",
    "x = Dense(1024, activation='relu')(x)\n",
    "x = Dense(1)(x)"
   ]
  },
  {
   "cell_type": "code",
   "execution_count": 10,
   "metadata": {},
   "outputs": [],
   "source": [
    "# Build the model\n",
    "model = Model(inputs=[u, m], outputs=x)\n",
    "model.compile(loss='mse', optimizer='Adam')"
   ]
  },
  {
   "cell_type": "code",
   "execution_count": 11,
   "metadata": {},
   "outputs": [
    {
     "name": "stdout",
     "output_type": "stream",
     "text": [
      "Model: \"model\"\n",
      "__________________________________________________________________________________________________\n",
      " Layer (type)                   Output Shape         Param #     Connected to                     \n",
      "==================================================================================================\n",
      " input_1 (InputLayer)           [(None, 1)]          0           []                               \n",
      "                                                                                                  \n",
      " input_2 (InputLayer)           [(None, 1)]          0           []                               \n",
      "                                                                                                  \n",
      " embedding (Embedding)          (None, 1, 10)        267440      ['input_1[0][0]']                \n",
      "                                                                                                  \n",
      " embedding_1 (Embedding)        (None, 1, 10)        267440      ['input_2[0][0]']                \n",
      "                                                                                                  \n",
      " flatten (Flatten)              (None, 10)           0           ['embedding[0][0]']              \n",
      "                                                                                                  \n",
      " flatten_1 (Flatten)            (None, 10)           0           ['embedding_1[0][0]']            \n",
      "                                                                                                  \n",
      " concatenate (Concatenate)      (None, 20)           0           ['flatten[0][0]',                \n",
      "                                                                  'flatten_1[0][0]']              \n",
      "                                                                                                  \n",
      " dense (Dense)                  (None, 1024)         21504       ['concatenate[0][0]']            \n",
      "                                                                                                  \n",
      " dense_1 (Dense)                (None, 1)            1025        ['dense[0][0]']                  \n",
      "                                                                                                  \n",
      "==================================================================================================\n",
      "Total params: 557,409\n",
      "Trainable params: 557,409\n",
      "Non-trainable params: 0\n",
      "__________________________________________________________________________________________________\n"
     ]
    }
   ],
   "source": [
    "model.summary()"
   ]
  },
  {
   "cell_type": "code",
   "execution_count": 45,
   "metadata": {},
   "outputs": [
    {
     "name": "stdout",
     "output_type": "stream",
     "text": [
      "You must install pydot (`pip install pydot`) and install graphviz (see instructions at https://graphviz.gitlab.io/download/) for plot_model to work.\n"
     ]
    }
   ],
   "source": [
    "tf.keras.utils.plot_model(\n",
    "    model,\n",
    "    to_file='model.png',\n",
    "    show_shapes=False,\n",
    "    show_dtype=False,\n",
    "    show_layer_names=True,\n",
    "    rankdir='TB',\n",
    "    expand_nested=False,\n",
    "    dpi=96,\n",
    "    layer_range=None,\n",
    "    show_layer_activations=False)"
   ]
  },
  {
   "cell_type": "code",
   "execution_count": 12,
   "metadata": {},
   "outputs": [],
   "source": [
    "# Spliting the data\n",
    "user_ids, movie_ids, ratings = shuffle(user_ids, movie_ids, ratings)\n",
    "Ntrain = int(0.8 * len(ratings))\n",
    "train_user = user_ids[:Ntrain]\n",
    "train_movie = movie_ids[:Ntrain]\n",
    "train_ratings = ratings[:Ntrain]\n",
    "\n",
    "test_user = user_ids[Ntrain:]\n",
    "test_movie = movie_ids[Ntrain:]\n",
    "test_ratings = ratings[Ntrain:]\n",
    "\n",
    "# Center the ratings\n",
    "avg_rating = train_ratings.mean()\n",
    "train_ratings = train_ratings - avg_rating\n",
    "test_ratings = test_ratings - avg_rating"
   ]
  },
  {
   "cell_type": "code",
   "execution_count": 16,
   "metadata": {},
   "outputs": [
    {
     "name": "stdout",
     "output_type": "stream",
     "text": [
      "Epoch 1/25\n",
      "15626/15626 - 103s - loss: 0.8936 - val_loss: 0.8918 - 103s/epoch - 7ms/step\n",
      "Epoch 2/25\n",
      "15626/15626 - 107s - loss: 0.8872 - val_loss: 0.8884 - 107s/epoch - 7ms/step\n",
      "Epoch 3/25\n",
      "15626/15626 - 108s - loss: 0.8861 - val_loss: 0.8880 - 108s/epoch - 7ms/step\n",
      "Epoch 4/25\n",
      "15626/15626 - 110s - loss: 0.8856 - val_loss: 0.8878 - 110s/epoch - 7ms/step\n",
      "Epoch 5/25\n",
      "15626/15626 - 116s - loss: 0.8853 - val_loss: 0.8877 - 116s/epoch - 7ms/step\n",
      "Epoch 6/25\n",
      "15626/15626 - 97s - loss: 0.8851 - val_loss: 0.8878 - 97s/epoch - 6ms/step\n",
      "Epoch 7/25\n",
      "15626/15626 - 92s - loss: 0.8849 - val_loss: 0.8877 - 92s/epoch - 6ms/step\n",
      "Epoch 8/25\n",
      "15626/15626 - 92s - loss: 0.8848 - val_loss: 0.8874 - 92s/epoch - 6ms/step\n",
      "Epoch 9/25\n",
      "15626/15626 - 95s - loss: 0.8847 - val_loss: 0.8878 - 95s/epoch - 6ms/step\n",
      "Epoch 10/25\n",
      "15626/15626 - 93s - loss: 0.8847 - val_loss: 0.8878 - 93s/epoch - 6ms/step\n",
      "Epoch 11/25\n",
      "15626/15626 - 91s - loss: 0.8846 - val_loss: 0.8876 - 91s/epoch - 6ms/step\n",
      "Epoch 12/25\n",
      "15626/15626 - 92s - loss: 0.8845 - val_loss: 0.8875 - 92s/epoch - 6ms/step\n",
      "Epoch 13/25\n",
      "15626/15626 - 94s - loss: 0.8845 - val_loss: 0.8875 - 94s/epoch - 6ms/step\n",
      "Epoch 14/25\n",
      "15626/15626 - 110s - loss: 0.8844 - val_loss: 0.8874 - 110s/epoch - 7ms/step\n",
      "Epoch 15/25\n",
      "15626/15626 - 106s - loss: 0.8844 - val_loss: 0.8873 - 106s/epoch - 7ms/step\n",
      "Epoch 16/25\n",
      "15626/15626 - 109s - loss: 0.8844 - val_loss: 0.8877 - 109s/epoch - 7ms/step\n",
      "Epoch 17/25\n",
      "15626/15626 - 106s - loss: 0.8844 - val_loss: 0.8876 - 106s/epoch - 7ms/step\n",
      "Epoch 18/25\n",
      "15626/15626 - 113s - loss: 0.8843 - val_loss: 0.8876 - 113s/epoch - 7ms/step\n",
      "Epoch 19/25\n",
      "15626/15626 - 109s - loss: 0.8843 - val_loss: 0.8875 - 109s/epoch - 7ms/step\n",
      "Epoch 20/25\n",
      "15626/15626 - 107s - loss: 0.8843 - val_loss: 0.8873 - 107s/epoch - 7ms/step\n",
      "Epoch 21/25\n",
      "15626/15626 - 103s - loss: 0.8843 - val_loss: 0.8875 - 103s/epoch - 7ms/step\n",
      "Epoch 22/25\n",
      "15626/15626 - 103s - loss: 0.8843 - val_loss: 0.8877 - 103s/epoch - 7ms/step\n",
      "Epoch 23/25\n",
      "15626/15626 - 107s - loss: 0.8843 - val_loss: 0.8873 - 107s/epoch - 7ms/step\n",
      "Epoch 24/25\n",
      "15626/15626 - 104s - loss: 0.8842 - val_loss: 0.8873 - 104s/epoch - 7ms/step\n",
      "Epoch 25/25\n",
      "15626/15626 - 102s - loss: 0.8842 - val_loss: 0.8876 - 102s/epoch - 7ms/step\n"
     ]
    }
   ],
   "source": [
    "r = model.fit(x=[train_user, train_movie],\n",
    "              y=train_ratings,\n",
    "              epochs=25,\n",
    "              batch_size=1024,\n",
    "              verbose=2,\n",
    "              validation_data=([test_user, test_movie], test_ratings))\n"
   ]
  },
  {
   "cell_type": "code",
   "execution_count": 13,
   "metadata": {},
   "outputs": [],
   "source": [
    "loaded_model = tf.keras.models.load_model(\"./models/recommendation_config_weights\")"
   ]
  },
  {
   "cell_type": "code",
   "execution_count": 46,
   "metadata": {},
   "outputs": [
    {
     "name": "stdout",
     "output_type": "stream",
     "text": [
      "INFO:tensorflow:Assets written to: ./models/recommendation_config_weights\\assets\n"
     ]
    }
   ],
   "source": [
    "# Save model & weights\n",
    "model.save(\"./models/recommendation_config_weights\")"
   ]
  },
  {
   "cell_type": "code",
   "execution_count": 35,
   "metadata": {},
   "outputs": [],
   "source": [
    "# Save only weights\n",
    "model.save_weights(\"./models/recommendation_weights\")"
   ]
  },
  {
   "cell_type": "code",
   "execution_count": 36,
   "metadata": {},
   "outputs": [],
   "source": [
    "# Save only Model\n",
    "recommendad_json = model.to_json()\n",
    "with open('./models/recommendation_config.json', 'w') as outfile: \n",
    "    outfile.write(recommendad_json) "
   ]
  },
  {
   "cell_type": "code",
   "execution_count": 40,
   "metadata": {},
   "outputs": [
    {
     "data": {
      "image/png": "[encoded data removed]",
      "text/plain": [
       "<Figure size 432x288 with 1 Axes>"
      ]
     },
     "metadata": {
      "needs_background": "light"
     },
     "output_type": "display_data"
    }
   ],
   "source": [
    "# Plot losses\n",
    "plt.plot(r.history['loss'], label=\"train loss\")\n",
    "plt.plot(r.history['val_loss'], label=\"val loss\")\n",
    "plt.legend(['train', 'validation'], loc='upper right')\n",
    "plt.show()"
   ]
  },
  {
   "cell_type": "code",
   "execution_count": 21,
   "metadata": {},
   "outputs": [
    {
     "data": {
      "text/plain": [
       "0.9422250275231482"
      ]
     },
     "execution_count": 21,
     "metadata": {},
     "output_type": "execute_result"
    }
   ],
   "source": [
    "np.sqrt(np.mean(r.history['val_loss']))"
   ]
  },
  {
   "cell_type": "code",
   "execution_count": 44,
   "metadata": {},
   "outputs": [
    {
     "data": {
      "text/plain": [
       "dict_keys(['loss', 'val_loss'])"
      ]
     },
     "execution_count": 44,
     "metadata": {},
     "output_type": "execute_result"
    }
   ],
   "source": [
    "r.history.keys()"
   ]
  },
  {
   "cell_type": "code",
   "execution_count": null,
   "metadata": {},
   "outputs": [],
   "source": []
  },
  {
   "cell_type": "code",
   "execution_count": null,
   "metadata": {},
   "outputs": [],
   "source": []
  }
 ],
 "metadata": {
  "interpreter": {
   "hash": "713b5dbaf9691cfa9873b61b3538f4ed3447b354f31f667d1ac5f1f5907b30d9"
  },
  "kernelspec": {
   "display_name": "Python 3.10.0 64-bit",
   "language": "python",
   "name": "python3"
  },
  "language_info": {
   "codemirror_mode": {
    "name": "ipython",
    "version": 3
   },
   "file_extension": ".py",
   "mimetype": "text/x-python",
   "name": "python",
   "nbconvert_exporter": "python",
   "pygments_lexer": "ipython3",
   "version": "3.10.0"
  },
  "orig_nbformat": 4
 },
 "nbformat": 4,
 "nbformat_minor": 2
}
