{
 "cells": [
  {
   "cell_type": "code",
   "execution_count": 92,
   "metadata": {},
   "outputs": [],
   "source": [
    "import tensorflow as tf\n",
    "import numpy as np\n",
    "import matplotlib.pyplot as plt\n",
    "import pandas as pd \n",
    "from tensorflow.keras.datasets import mnist\n",
    "from sklearn.metrics import confusion_matrix,ConfusionMatrixDisplay\n",
    "from sklearn.metrics import accuracy_score, precision_score, classification_report\n",
    "from sklearn.model_selection import train_test_split\n",
    "from tensorflow.keras.utils import to_categorical\n",
    "from tensorflow.keras.models import Sequential\n",
    "from tensorflow.keras.applications import VGG19\n",
    "from tensorflow.keras import layers\n",
    "from tensorflow.keras.layers import Dense, Flatten\n"
   ]
  },
  {
   "cell_type": "code",
   "execution_count": 93,
   "metadata": {},
   "outputs": [],
   "source": [
    "(X_train, y_train), (X_test, y_test) = mnist.load_data()"
   ]
  },
  {
   "cell_type": "code",
   "execution_count": 94,
   "metadata": {},
   "outputs": [],
   "source": [
    "IMG_SIZE = 32"
   ]
  },
  {
   "cell_type": "code",
   "execution_count": 95,
   "metadata": {},
   "outputs": [],
   "source": [
    "# resize images for vgg19\n",
    "import cv2\n",
    "\n",
    "def resize(img_array):\n",
    "    tmp = np.empty((img_array.shape[0], IMG_SIZE, IMG_SIZE))\n",
    "\n",
    "    for i in range(len(img_array)):\n",
    "        img = img_array[i].reshape(28, 28).astype('uint8')\n",
    "        img = cv2.resize(img, (IMG_SIZE, IMG_SIZE))\n",
    "        img = img.astype('float32')/255\n",
    "        tmp[i] = img\n",
    "        \n",
    "    return tmp\n",
    "\n",
    "train_x_resize = resize(X_train)\n",
    "test_x_resize = resize(X_test)"
   ]
  },
  {
   "cell_type": "code",
   "execution_count": 96,
   "metadata": {},
   "outputs": [
    {
     "name": "stdout",
     "output_type": "stream",
     "text": [
      "(60000, 32, 32, 3)\n",
      "(10000, 32, 32, 3)\n"
     ]
    }
   ],
   "source": [
    "train_x_final = np.stack((train_x_resize,)*3, axis=-1)\n",
    "test_x_final = np.stack((test_x_resize,)*3, axis=-1)\n",
    "print(train_x_final.shape)\n",
    "print(test_x_final.shape)"
   ]
  },
  {
   "cell_type": "code",
   "execution_count": 97,
   "metadata": {},
   "outputs": [
    {
     "name": "stdout",
     "output_type": "stream",
     "text": [
      "(60000, 10)\n"
     ]
    }
   ],
   "source": [
    "train_y_final = to_categorical(y_train, num_classes=10)\n",
    "print(train_y_final.shape)"
   ]
  },
  {
   "cell_type": "code",
   "execution_count": 98,
   "metadata": {},
   "outputs": [
    {
     "name": "stdout",
     "output_type": "stream",
     "text": [
      "(48000, 32, 32, 3)\n",
      "(12000, 32, 32, 3)\n",
      "(48000, 10)\n",
      "(12000, 10)\n"
     ]
    }
   ],
   "source": [
    "X_train, X_test, y_train, y_test = train_test_split(train_x_final, train_y_final, test_size=0.2, random_state=2019)\n",
    "print(X_train.shape)\n",
    "print(X_test.shape)\n",
    "print(y_train.shape)\n",
    "print(y_test.shape)"
   ]
  },
  {
   "cell_type": "code",
   "execution_count": 99,
   "metadata": {},
   "outputs": [
    {
     "name": "stdout",
     "output_type": "stream",
     "text": [
      "Model: \"sequential_9\"\n",
      "_________________________________________________________________\n",
      "Layer (type)                 Output Shape              Param #   \n",
      "=================================================================\n",
      "vgg19 (Functional)           (None, 1, 1, 512)         20024384  \n",
      "_________________________________________________________________\n",
      "flatten_9 (Flatten)          (None, 512)               0         \n",
      "_________________________________________________________________\n",
      "dense_9 (Dense)              (None, 10)                5130      \n",
      "=================================================================\n",
      "Total params: 20,029,514\n",
      "Trainable params: 20,029,514\n",
      "Non-trainable params: 0\n",
      "_________________________________________________________________\n"
     ]
    }
   ],
   "source": [
    "vgg19 = VGG19(weights = 'imagenet', \n",
    "              include_top = False,\n",
    "              input_shape=(IMG_SIZE, IMG_SIZE, 3)\n",
    "              )\n",
    "\n",
    "model = Sequential()\n",
    "model.add(vgg19)\n",
    "model.add(Flatten())\n",
    "model.add(Dense(10, activation='softmax'))\n",
    "\n",
    "model.compile(loss='categorical_crossentropy', \n",
    "              optimizer='adam', \n",
    "              metrics=['accuracy',\n",
    "              tf.keras.metrics.Precision(0.5),\n",
    "              tf.keras.metrics.Recall(0.5),])\n",
    "\n",
    "model.summary()"
   ]
  },
  {
   "cell_type": "code",
   "execution_count": 100,
   "metadata": {},
   "outputs": [],
   "source": [
    "earl = tf.keras.callbacks.EarlyStopping(monitor='val_loss', patience=3, verbose=1, mode='auto')"
   ]
  },
  {
   "cell_type": "code",
   "execution_count": 101,
   "metadata": {},
   "outputs": [
    {
     "name": "stdout",
     "output_type": "stream",
     "text": [
      "Epoch 1/5\n",
      "1500/1500 [==============================] - 59s 38ms/step - loss: 0.6725 - accuracy: 0.7638 - precision_6: 0.9053 - recall_6: 0.6925 - val_loss: 0.1897 - val_accuracy: 0.9564 - val_precision_6: 0.9657 - val_recall_6: 0.9482\n",
      "Epoch 2/5\n",
      "1500/1500 [==============================] - 58s 39ms/step - loss: 0.1437 - accuracy: 0.9678 - precision_6: 0.9743 - recall_6: 0.9629 - val_loss: 0.1242 - val_accuracy: 0.9709 - val_precision_6: 0.9800 - val_recall_6: 0.9648\n",
      "Epoch 3/5\n",
      "1500/1500 [==============================] - 61s 40ms/step - loss: 0.1561 - accuracy: 0.9636 - precision_6: 0.9726 - recall_6: 0.9569 - val_loss: 0.0903 - val_accuracy: 0.9793 - val_precision_6: 0.9839 - val_recall_6: 0.9771\n",
      "Epoch 4/5\n",
      "1500/1500 [==============================] - 61s 40ms/step - loss: 0.0838 - accuracy: 0.9805 - precision_6: 0.9852 - recall_6: 0.9770 - val_loss: 0.0761 - val_accuracy: 0.9824 - val_precision_6: 0.9862 - val_recall_6: 0.9797\n",
      "Epoch 5/5\n",
      "1500/1500 [==============================] - 60s 40ms/step - loss: 0.1050 - accuracy: 0.9774 - precision_6: 0.9831 - recall_6: 0.9731 - val_loss: 0.0727 - val_accuracy: 0.9839 - val_precision_6: 0.9893 - val_recall_6: 0.9802\n"
     ]
    }
   ],
   "source": [
    "history = model.fit(X_train, \n",
    "                    y_train, \n",
    "                    epochs=5, \n",
    "                    batch_size=32,\n",
    "                    validation_data=(X_test,y_test), \n",
    "                    callbacks=[earl])"
   ]
  },
  {
   "cell_type": "code",
   "execution_count": 102,
   "metadata": {},
   "outputs": [
    {
     "name": "stdout",
     "output_type": "stream",
     "text": [
      "375/375 [==============================] - 4s 11ms/step - loss: 0.0727 - accuracy: 0.9839 - precision_6: 0.9893 - recall_6: 0.9802\n"
     ]
    },
    {
     "data": {
      "text/plain": [
       "loss           0.072683\n",
       "accuracy       0.983917\n",
       "precision_6    0.989318\n",
       "recall_6       0.980167\n",
       "dtype: float64"
      ]
     },
     "execution_count": 102,
     "metadata": {},
     "output_type": "execute_result"
    }
   ],
   "source": [
    "score = model.evaluate(X_test, y_test)\n",
    "score_df = pd.Series(score, index = model.metrics_names)\n",
    "score_df"
   ]
  },
  {
   "cell_type": "code",
   "execution_count": 103,
   "metadata": {},
   "outputs": [
    {
     "name": "stdout",
     "output_type": "stream",
     "text": [
      "INFO:tensorflow:Assets written to: model/vgg19_mnist\\assets\n"
     ]
    }
   ],
   "source": [
    "model.save('model/vgg19_mnist')"
   ]
  },
  {
   "cell_type": "code",
   "execution_count": 104,
   "metadata": {},
   "outputs": [],
   "source": [
    "model.save_weights('weights/vgg19_weights')"
   ]
  },
  {
   "cell_type": "code",
   "execution_count": null,
   "metadata": {},
   "outputs": [],
   "source": []
  }
 ],
 "metadata": {
  "kernelspec": {
   "display_name": "Python 3.9.7 ('tf-gpu')",
   "language": "python",
   "name": "python3"
  },
  "language_info": {
   "codemirror_mode": {
    "name": "ipython",
    "version": 3
   },
   "file_extension": ".py",
   "mimetype": "text/x-python",
   "name": "python",
   "nbconvert_exporter": "python",
   "pygments_lexer": "ipython3",
   "version": "3.9.7"
  },
  "orig_nbformat": 4,
  "vscode": {
   "interpreter": {
    "hash": "8851e664df791c63fc314e054a392625d7940ac72e9fc31c8a07f6c226ae09dc"
   }
  }
 },
 "nbformat": 4,
 "nbformat_minor": 2
}
